{
 "cells": [
  {
   "cell_type": "code",
   "execution_count": 50,
   "id": "a1088f3c-8e43-43cd-b829-29930daffb8e",
   "metadata": {},
   "outputs": [],
   "source": [
    "import os\n",
    "import numpy as np\n",
    "import pandas as pd\n",
    "import glob"
   ]
  },
  {
   "cell_type": "code",
   "execution_count": null,
   "id": "55b05f78",
   "metadata": {},
   "outputs": [],
   "source": [
    "#Adjust axis orientarion and ordering to match the synthetic data"
   ]
  },
  {
   "cell_type": "code",
   "execution_count": 51,
   "id": "ecb54770-a053-4a67-a8ba-b1ccaf36eb06",
   "metadata": {},
   "outputs": [],
   "source": [
    "activities = [\"jumping\", \"lying\", \"running\", \"sitting\", \"standing\", \"walking\", \"climbing_down\", \"climbing_up\" ]\n",
    "imu_order = ['head', 'chest' , 'upperarm', 'forearm' , 'waist' , 'thigh', 'shin']"
   ]
  },
  {
   "cell_type": "code",
   "execution_count": 53,
   "id": "a71b9113-f01c-4e3c-b7d3-f24fcb8449b2",
   "metadata": {},
   "outputs": [],
   "source": [
    "\n",
    "\n",
    "##############################\n",
    "#AXIS-MAPPING#################\n",
    "##############################\n",
    "#axis mapping based on reference cluster-x reference (x,y,z) -> blender(dict_axis_inv[0]*dict_axis[cluster-x][0], dict_axis_inv[1]*dict_axis[cluster-x][1], dict_axis_inv[2]*dict_axis[cluster-x][2])\n",
    "#mapping of the axis\n",
    "\n",
    "dict_axis = { 'head': ['Y', 'X', 'Z'], 'chest': ['Y', 'X', 'Z'], 'upperarm': ['Y', 'X', 'Z'], \n",
    "                            'forearm': ['Y', 'X', 'Z'], 'waist': ['X', 'Y', 'Z'], 'thigh': ['Y', 'X', 'Z'],\n",
    "                            'shin': ['Y', 'X', 'Z'],\n",
    "                }\n",
    "\n",
    "#mapping of the axis (inverted (-1) vs non-inverted (1))\n",
    "dict_axis_inv = {'head': [1, 1, 1], 'chest': [1, 1, 1], 'upperarm': [1, 1, 1], 'forearm': [1, 1, 1], \n",
    "                                'waist': [1, 1, -1], 'thigh': [-1, -1, -1], 'shin': [1, 1, 1]}"
   ]
  },
  {
   "cell_type": "code",
   "execution_count": null,
   "id": "dc602a6f-d060-4789-ba85-e329cd228ec8",
   "metadata": {},
   "outputs": [],
   "source": []
  },
  {
   "cell_type": "code",
   "execution_count": 54,
   "id": "0fce8862-11d8-4268-ac0e-ed9b47db80a9",
   "metadata": {},
   "outputs": [],
   "source": [
    "def correct_axis(acc):\n",
    "    df_acc = pd.DataFrame()\n",
    "\n",
    "    #first reorder acc axes:\n",
    "    for imu in imu_order: #iterate through imus in the same order as measured ones are saved\n",
    "\n",
    "        #get column names for corresponding recorded x y and z axis\n",
    "        column_name_0 = f\"attr_{dict_axis[imu][0].lower()}\"\n",
    "        column_name_1 = f\"attr_{dict_axis[imu][1].lower()}\"\n",
    "        column_name_2 = f\"attr_{dict_axis[imu][2].lower()}\"\n",
    "\n",
    "        #get column values with inverted values if necessary\n",
    "        column_0 = dict_axis_inv[imu][0] * acc[column_name_0]\n",
    "        column_1 = dict_axis_inv[imu][1] * acc[column_name_1]\n",
    "        column_2 = dict_axis_inv[imu][2] * acc[column_name_2]\n",
    "\n",
    "        #assigne values to new dataframe, now with correct axes\n",
    "        df_acc[\"attr_time\"] = acc[\"attr_time\"] \n",
    "        df_acc[\"id\"] = acc[\"id\"] \n",
    "        df_acc[column_name_0] = column_0\n",
    "        df_acc[column_name_1] = column_1\n",
    "        df_acc[column_name_2] = column_2\n",
    "    return df_acc"
   ]
  },
  {
   "cell_type": "code",
   "execution_count": null,
   "id": "49542c89-4773-4c79-aa34-313546da9627",
   "metadata": {},
   "outputs": [
    {
     "name": "stdout",
     "output_type": "stream",
     "text": [
      "Number of valid paths for participant proband4: 168\n",
      "Number of valid paths for participant proband6: 98\n",
      "Number of valid paths for participant proband11: 112\n",
      "Number of valid paths for participant proband1: 112\n",
      "Number of valid paths for participant proband8: 112\n",
      "Number of valid paths for participant proband12: 112\n",
      "Number of valid paths for participant proband7: 168\n",
      "Number of valid paths for participant proband13: 112\n",
      "Number of valid paths for participant proband2: 98\n",
      "Number of valid paths for participant proband5: 112\n",
      "Number of valid paths for participant proband14: 168\n",
      "Number of valid paths for participant proband15: 112\n",
      "Number of valid paths for participant proband3: 112\n",
      "Number of valid paths for participant proband10: 112\n",
      "Number of valid paths for participant proband9: 112\n"
     ]
    }
   ],
   "source": [
    "output_dir = \"realWorld_axis/\"\n",
    "for entry in os.scandir(\"xxx/model/data/realworld/raw/\"): #every participant\n",
    "    valid_paths = []\n",
    "    subfolder = os.path.join(entry, \"data\")\n",
    "    valid_paths = glob.glob(os.path.join(subfolder, \"*.csv\")) #collect all csv files\n",
    "    print(f\"Number of valid paths for participant {entry.name}: {len(valid_paths)}\")\n",
    "    for file in valid_paths: \n",
    "        df = pd.read_csv(file)\n",
    "        df = correct_axis(df)\n",
    "        output_file = os.path.join(output_dir, os.path.basename(entry), \"data\",  os.path.basename(file))\n",
    "        os.makedirs(os.path.join(output_dir, os.path.basename(entry), \"data\"), exist_ok=True)\n",
    "        df.to_csv(output_file, index=False)\n",
    "    \n",
    "\n",
    "    "
   ]
  },
  {
   "cell_type": "code",
   "execution_count": null,
   "id": "55ab4efb-59fb-4e66-92b4-7b5b68313a25",
   "metadata": {},
   "outputs": [],
   "source": []
  },
  {
   "cell_type": "code",
   "execution_count": null,
   "id": "6d6e16d7-e30b-4573-b770-b0205c7b807c",
   "metadata": {},
   "outputs": [],
   "source": []
  },
  {
   "cell_type": "code",
   "execution_count": null,
   "id": "bf405901-84a4-4657-a23e-441c8614c7c4",
   "metadata": {},
   "outputs": [],
   "source": []
  }
 ],
 "metadata": {
  "kernelspec": {
   "display_name": "Python 3 (ipykernel)",
   "language": "python",
   "name": "python3"
  },
  "language_info": {
   "codemirror_mode": {
    "name": "ipython",
    "version": 3
   },
   "file_extension": ".py",
   "mimetype": "text/x-python",
   "name": "python",
   "nbconvert_exporter": "python",
   "pygments_lexer": "ipython3",
   "version": "3.10.12"
  }
 },
 "nbformat": 4,
 "nbformat_minor": 5
}
